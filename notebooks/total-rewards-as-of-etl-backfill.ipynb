{
 "cells": [
  {
   "cell_type": "code",
   "execution_count": 1,
   "id": "f1fada7b-9a4d-4015-bc9e-27081c29b2df",
   "metadata": {},
   "outputs": [],
   "source": [
    "import pandas as pd\n",
    "from google.cloud import storage\n",
    "from google.api_core import page_iterator\n",
    "from datetime import datetime, date, timedelta\n",
    "import os"
   ]
  },
  {
   "cell_type": "markdown",
   "id": "685cbe2e-152d-48e0-a549-be08efe0db5a",
   "metadata": {
    "tags": []
   },
   "source": [
    "# Utility Function to List Out Google Clou Storage Directories for a Given File Path"
   ]
  },
  {
   "cell_type": "code",
   "execution_count": 2,
   "id": "31e80306-c690-497e-a72e-a9ab446c7c5a",
   "metadata": {},
   "outputs": [],
   "source": [
    "def _item_to_value(iterator, item):\n",
    "    return item\n",
    "\n",
    "def list_directories(bucket_name, prefix):\n",
    "    if prefix and not prefix.endswith('/'):\n",
    "        prefix += '/'\n",
    "\n",
    "    extra_params = {\n",
    "        \"projection\": \"noAcl\",\n",
    "        \"prefix\": prefix,\n",
    "        \"delimiter\": '/'\n",
    "    }\n",
    "\n",
    "    gcs = storage.Client()\n",
    "\n",
    "    path = \"/b/\" + bucket_name + \"/o\"\n",
    "\n",
    "    iterator = page_iterator.HTTPIterator(\n",
    "        client=gcs,\n",
    "        api_request=gcs._connection.api_request,\n",
    "        path=path,\n",
    "        items_key='prefixes',\n",
    "        item_to_value=_item_to_value,\n",
    "        extra_params=extra_params,\n",
    "    )\n",
    "\n",
    "    return [x for x in iterator]"
   ]
  },
  {
   "cell_type": "markdown",
   "id": "5991f666-2342-4ba0-99eb-6894b0e44731",
   "metadata": {
    "tags": []
   },
   "source": [
    "# Define Query to Execute Against GBQ for Keeper Total Rewards Calculation"
   ]
  },
  {
   "cell_type": "code",
   "execution_count": 3,
   "id": "9f5b317f-ad64-4887-84fd-453ad35b2cf9",
   "metadata": {},
   "outputs": [],
   "source": [
    "query = '''\n",
    "\n",
    "select\n",
    "  krd.entropy_keeper_address,\n",
    "  sum(krd.daily_keeper_reward) as total_keeper_reward\n",
    "from entropy.keeper_rewards_daily krd\n",
    "where\n",
    "  date(krd.date) <= date('{}')\n",
    "group by 1\n",
    "\n",
    "'''"
   ]
  },
  {
   "cell_type": "markdown",
   "id": "0c0b3973-e4ef-4087-99b9-b21fdb351c38",
   "metadata": {},
   "source": [
    "# Initialize Google Cloud Storage Client and Resources"
   ]
  },
  {
   "cell_type": "code",
   "execution_count": 4,
   "id": "f0e066a5-1bc3-4823-b79c-97e0db18d067",
   "metadata": {},
   "outputs": [],
   "source": [
    "client = storage.Client()\n",
    "rewards_bucket = client.get_bucket('entropy-rewards')"
   ]
  },
  {
   "cell_type": "code",
   "execution_count": 5,
   "id": "c635ca63-654c-4446-8e05-529690ce39a3",
   "metadata": {},
   "outputs": [
    {
     "data": {
      "text/plain": [
       "['2022-04-22',\n",
       " '2022-04-23',\n",
       " '2022-04-24',\n",
       " '2022-04-25',\n",
       " '2022-04-26',\n",
       " '2022-04-27',\n",
       " '2022-04-28',\n",
       " '2022-04-29',\n",
       " '2022-04-30',\n",
       " '2022-05-01']"
      ]
     },
     "execution_count": 5,
     "metadata": {},
     "output_type": "execute_result"
    }
   ],
   "source": [
    "date_list = [x.strip(\"'raw/\").strip('/') for x in list_directories('entropy-keeper-transactions', 'raw/')]\n",
    "date_list[:-1]"
   ]
  },
  {
   "cell_type": "markdown",
   "id": "86d6b77d-c49d-455b-8d3e-661c690d49ce",
   "metadata": {},
   "source": [
    "# Loop Through Txns and Aggregate Rewards Per Keeper Wallet \"as of\" a Specific Day"
   ]
  },
  {
   "cell_type": "code",
   "execution_count": 18,
   "id": "44d26bf7-ca70-47d1-80b0-0379a47fac27",
   "metadata": {
    "collapsed": true,
    "jupyter": {
     "outputs_hidden": true
    },
    "tags": []
   },
   "outputs": [
    {
     "name": "stdout",
     "output_type": "stream",
     "text": [
      "2022-05-03 00:07:16.969724 Starting the process for the 2022-04-22 txn set...\n",
      "2022-05-03 00:07:17.966110 Creating parquet file...\n",
      "2022-05-03 00:07:17.969901 Writing data to GBQ...\n"
     ]
    },
    {
     "name": "stderr",
     "output_type": "stream",
     "text": [
      "100%|██████████| 1/1 [00:00<00:00, 7752.87it/s]\n"
     ]
    },
    {
     "name": "stdout",
     "output_type": "stream",
     "text": [
      "2022-05-03 00:07:21.688508 Uploading file to GCS...\n",
      "2022-05-03 00:07:22.008852 Uploading \"current\" file to GCS...\n",
      "2022-05-03 00:07:22.216772 Deleting file from local memory...\n",
      "2022-05-03 00:07:22.218172 Starting the process for the 2022-04-23 txn set...\n",
      "2022-05-03 00:07:23.133433 Creating parquet file...\n",
      "2022-05-03 00:07:23.136488 Writing data to GBQ...\n"
     ]
    },
    {
     "name": "stderr",
     "output_type": "stream",
     "text": [
      "100%|██████████| 1/1 [00:00<00:00, 7667.83it/s]\n"
     ]
    },
    {
     "name": "stdout",
     "output_type": "stream",
     "text": [
      "2022-05-03 00:07:31.441178 Uploading file to GCS...\n",
      "2022-05-03 00:07:31.711471 Uploading \"current\" file to GCS...\n",
      "2022-05-03 00:07:31.971714 Deleting file from local memory...\n",
      "2022-05-03 00:07:31.972313 Starting the process for the 2022-04-24 txn set...\n",
      "2022-05-03 00:07:32.960985 Creating parquet file...\n",
      "2022-05-03 00:07:32.964302 Writing data to GBQ...\n"
     ]
    },
    {
     "name": "stderr",
     "output_type": "stream",
     "text": [
      "100%|██████████| 1/1 [00:00<00:00, 9489.38it/s]\n"
     ]
    },
    {
     "name": "stdout",
     "output_type": "stream",
     "text": [
      "2022-05-03 00:07:37.158669 Uploading file to GCS...\n",
      "2022-05-03 00:07:37.387884 Uploading \"current\" file to GCS...\n",
      "2022-05-03 00:07:37.657195 Deleting file from local memory...\n",
      "2022-05-03 00:07:37.657730 Starting the process for the 2022-04-25 txn set...\n",
      "2022-05-03 00:07:38.571799 Creating parquet file...\n",
      "2022-05-03 00:07:38.574735 Writing data to GBQ...\n"
     ]
    },
    {
     "name": "stderr",
     "output_type": "stream",
     "text": [
      "100%|██████████| 1/1 [00:00<00:00, 12192.74it/s]\n"
     ]
    },
    {
     "name": "stdout",
     "output_type": "stream",
     "text": [
      "2022-05-03 00:07:44.223123 Uploading file to GCS...\n",
      "2022-05-03 00:07:44.460305 Uploading \"current\" file to GCS...\n",
      "2022-05-03 00:07:44.690126 Deleting file from local memory...\n",
      "2022-05-03 00:07:44.690672 Starting the process for the 2022-04-26 txn set...\n",
      "2022-05-03 00:07:45.603005 Creating parquet file...\n",
      "2022-05-03 00:07:45.606165 Writing data to GBQ...\n"
     ]
    },
    {
     "name": "stderr",
     "output_type": "stream",
     "text": [
      "100%|██████████| 1/1 [00:00<00:00, 11491.24it/s]\n"
     ]
    },
    {
     "name": "stdout",
     "output_type": "stream",
     "text": [
      "2022-05-03 00:07:50.484208 Uploading file to GCS...\n",
      "2022-05-03 00:07:50.773674 Uploading \"current\" file to GCS...\n",
      "2022-05-03 00:07:50.997006 Deleting file from local memory...\n",
      "2022-05-03 00:07:50.997580 Starting the process for the 2022-04-27 txn set...\n",
      "2022-05-03 00:07:51.944956 Creating parquet file...\n",
      "2022-05-03 00:07:51.948060 Writing data to GBQ...\n"
     ]
    },
    {
     "name": "stderr",
     "output_type": "stream",
     "text": [
      "100%|██████████| 1/1 [00:00<00:00, 14665.40it/s]\n"
     ]
    },
    {
     "name": "stdout",
     "output_type": "stream",
     "text": [
      "2022-05-03 00:07:54.974926 Uploading file to GCS...\n",
      "2022-05-03 00:07:55.217406 Uploading \"current\" file to GCS...\n",
      "2022-05-03 00:07:55.476831 Deleting file from local memory...\n",
      "2022-05-03 00:07:55.477354 Starting the process for the 2022-04-28 txn set...\n",
      "2022-05-03 00:07:56.385755 Creating parquet file...\n",
      "2022-05-03 00:07:56.390495 Writing data to GBQ...\n"
     ]
    },
    {
     "name": "stderr",
     "output_type": "stream",
     "text": [
      "100%|██████████| 1/1 [00:00<00:00, 8176.03it/s]\n"
     ]
    },
    {
     "name": "stdout",
     "output_type": "stream",
     "text": [
      "2022-05-03 00:08:17.002619 Uploading file to GCS...\n",
      "2022-05-03 00:08:17.236798 Uploading \"current\" file to GCS...\n",
      "2022-05-03 00:08:17.538663 Deleting file from local memory...\n",
      "2022-05-03 00:08:17.539254 Starting the process for the 2022-04-29 txn set...\n",
      "2022-05-03 00:08:18.510886 Creating parquet file...\n",
      "2022-05-03 00:08:18.514119 Writing data to GBQ...\n"
     ]
    },
    {
     "name": "stderr",
     "output_type": "stream",
     "text": [
      "100%|██████████| 1/1 [00:00<00:00, 13231.24it/s]\n"
     ]
    },
    {
     "name": "stdout",
     "output_type": "stream",
     "text": [
      "2022-05-03 00:08:23.015653 Uploading file to GCS...\n",
      "2022-05-03 00:08:23.255040 Uploading \"current\" file to GCS...\n",
      "2022-05-03 00:08:23.528716 Deleting file from local memory...\n",
      "2022-05-03 00:08:23.529253 Starting the process for the 2022-04-30 txn set...\n",
      "2022-05-03 00:08:24.448779 Creating parquet file...\n",
      "2022-05-03 00:08:24.451854 Writing data to GBQ...\n"
     ]
    },
    {
     "name": "stderr",
     "output_type": "stream",
     "text": [
      "100%|██████████| 1/1 [00:00<00:00, 13530.01it/s]\n"
     ]
    },
    {
     "name": "stdout",
     "output_type": "stream",
     "text": [
      "2022-05-03 00:08:29.396767 Uploading file to GCS...\n",
      "2022-05-03 00:08:29.666027 Uploading \"current\" file to GCS...\n",
      "2022-05-03 00:08:29.942642 Deleting file from local memory...\n",
      "2022-05-03 00:08:29.943199 Starting the process for the 2022-05-01 txn set...\n",
      "2022-05-03 00:08:30.936090 Creating parquet file...\n",
      "2022-05-03 00:08:30.939378 Writing data to GBQ...\n"
     ]
    },
    {
     "name": "stderr",
     "output_type": "stream",
     "text": [
      "100%|██████████| 1/1 [00:00<00:00, 13066.37it/s]\n"
     ]
    },
    {
     "name": "stdout",
     "output_type": "stream",
     "text": [
      "2022-05-03 00:08:35.447638 Uploading file to GCS...\n",
      "2022-05-03 00:08:35.707299 Uploading \"current\" file to GCS...\n",
      "2022-05-03 00:08:35.975789 Deleting file from local memory...\n"
     ]
    }
   ],
   "source": [
    "for date in date_list[:-1]:\n",
    "    print(datetime.now(), \"Starting the process for the {} txn set...\".format(date))\n",
    "\n",
    "    rewards_df = pd.read_gbq(query=query.format(date))\n",
    "    rewards_df['as_of_date'] = date\n",
    "    \n",
    "    print(datetime.now(), 'Creating parquet file...')   \n",
    "    rewards_df[['as_of_date','entropy_keeper_address','total_keeper_reward']].to_parquet('total-rewards-as-of-'+date+'.parquet')\n",
    "    \n",
    "    print(datetime.now(), 'Writing data to GBQ...')\n",
    "    rewards_df[['as_of_date','entropy_keeper_address','total_keeper_reward']].to_gbq('entropy.keeper_rewards_total',if_exists='append')\n",
    "\n",
    "    print(datetime.now(), 'Uploading file to GCS...')\n",
    "    blob = rewards_bucket.blob('cumulative/'+date[:7]+'/total-rewards-as-of-'+date+'.parquet')\n",
    "    blob.upload_from_filename('total-rewards-as-of-'+date+'.parquet')\n",
    "    \n",
    "    print(datetime.now(), 'Uploading \"current\" file to GCS...')\n",
    "    blob = rewards_bucket.blob('cumulative/current-total-rewards.parquet')\n",
    "    blob.upload_from_filename('total-rewards-as-of-'+date+'.parquet')\n",
    "\n",
    "    print(datetime.now(), 'Deleting file from local memory...')\n",
    "    os.remove('total-rewards-as-of-'+date+'.parquet')"
   ]
  },
  {
   "cell_type": "code",
   "execution_count": 11,
   "id": "c6fc6351-3b2f-49c9-8072-aaf64c6d1d19",
   "metadata": {},
   "outputs": [
    {
     "data": {
      "text/html": [
       "<div>\n",
       "<style scoped>\n",
       "    .dataframe tbody tr th:only-of-type {\n",
       "        vertical-align: middle;\n",
       "    }\n",
       "\n",
       "    .dataframe tbody tr th {\n",
       "        vertical-align: top;\n",
       "    }\n",
       "\n",
       "    .dataframe thead th {\n",
       "        text-align: right;\n",
       "    }\n",
       "</style>\n",
       "<table border=\"1\" class=\"dataframe\">\n",
       "  <thead>\n",
       "    <tr style=\"text-align: right;\">\n",
       "      <th></th>\n",
       "      <th>entropy_keeper_address</th>\n",
       "      <th>total_keeper_reward</th>\n",
       "      <th>as_of_date</th>\n",
       "    </tr>\n",
       "  </thead>\n",
       "  <tbody>\n",
       "    <tr>\n",
       "      <th>0</th>\n",
       "      <td>2dtWbt8X3uQNRNLdwwybDuFLzPrZribVXDdSVaRE5JzR</td>\n",
       "      <td>4650.850933</td>\n",
       "      <td>2022-04-22</td>\n",
       "    </tr>\n",
       "    <tr>\n",
       "      <th>1</th>\n",
       "      <td>6i7XMXBUDd2b8Y57xxaq2CaMihHKBomSS1K7mz6T7Nxm</td>\n",
       "      <td>605.574204</td>\n",
       "      <td>2022-04-22</td>\n",
       "    </tr>\n",
       "    <tr>\n",
       "      <th>2</th>\n",
       "      <td>432DaYkzyf5EWRjJXHD7baJp3f95djNtSTtWPNg1VQUM</td>\n",
       "      <td>840.187685</td>\n",
       "      <td>2022-04-22</td>\n",
       "    </tr>\n",
       "    <tr>\n",
       "      <th>3</th>\n",
       "      <td>HxeoZxH4JTrYGs2RTDF2p7Vsd7pmV3j5o5xTRoXmDg47</td>\n",
       "      <td>269.736585</td>\n",
       "      <td>2022-04-22</td>\n",
       "    </tr>\n",
       "    <tr>\n",
       "      <th>4</th>\n",
       "      <td>tCw98YuVqNruoGQbqTDNoh6f8wz8fiecRVNWnTc2rhG</td>\n",
       "      <td>1.464703</td>\n",
       "      <td>2022-04-22</td>\n",
       "    </tr>\n",
       "    <tr>\n",
       "      <th>5</th>\n",
       "      <td>5Cky8emeF1q1SHc9gjHLrVYBbCarRZNPtCnVMYAKcoP</td>\n",
       "      <td>859.153139</td>\n",
       "      <td>2022-04-22</td>\n",
       "    </tr>\n",
       "    <tr>\n",
       "      <th>6</th>\n",
       "      <td>arbp6SkGwKz7qkUt9StvZKTWFfDHeJfusUSpw6aqR27</td>\n",
       "      <td>327.549622</td>\n",
       "      <td>2022-04-22</td>\n",
       "    </tr>\n",
       "    <tr>\n",
       "      <th>7</th>\n",
       "      <td>AxpcUKnhF1pNNw9x5GbcYY16TCmqvFxDyHxEKyrpkcJe</td>\n",
       "      <td>305.579281</td>\n",
       "      <td>2022-04-22</td>\n",
       "    </tr>\n",
       "    <tr>\n",
       "      <th>8</th>\n",
       "      <td>DBAMcasPmgSrStwH82DhVSKaWZrsjUR3nz6M3vc13aCs</td>\n",
       "      <td>95.289504</td>\n",
       "      <td>2022-04-22</td>\n",
       "    </tr>\n",
       "    <tr>\n",
       "      <th>9</th>\n",
       "      <td>FytZdmfYW6oCP5jhiBCE9xmUhzqVX6i2hw3NrwcGBYMo</td>\n",
       "      <td>1.262670</td>\n",
       "      <td>2022-04-22</td>\n",
       "    </tr>\n",
       "    <tr>\n",
       "      <th>10</th>\n",
       "      <td>BP4yhBjUjWZ2hX2pvkfKs65ZpG3aAdxYjTT3qxQjofWe</td>\n",
       "      <td>1.431026</td>\n",
       "      <td>2022-04-22</td>\n",
       "    </tr>\n",
       "    <tr>\n",
       "      <th>11</th>\n",
       "      <td>F4rLiV3mzCL4hc3nsktzoRVVWqgngmKHHwAybjQZWtns</td>\n",
       "      <td>31.735109</td>\n",
       "      <td>2022-04-22</td>\n",
       "    </tr>\n",
       "    <tr>\n",
       "      <th>12</th>\n",
       "      <td>HAL3LZYFfTYWs4VAyg7KLbv7qUkB2UMrw7MfFtTQiscv</td>\n",
       "      <td>0.000000</td>\n",
       "      <td>2022-04-22</td>\n",
       "    </tr>\n",
       "    <tr>\n",
       "      <th>13</th>\n",
       "      <td>9CFPaXBgzWobkweycEd8poXSKimPTTVdUYGNHTm3dxBw</td>\n",
       "      <td>0.420890</td>\n",
       "      <td>2022-04-22</td>\n",
       "    </tr>\n",
       "    <tr>\n",
       "      <th>14</th>\n",
       "      <td>DCzxCuncJvyPGzjS4fTCgZNz3A4MSAuLCGMjR2JfVQcU</td>\n",
       "      <td>0.505068</td>\n",
       "      <td>2022-04-22</td>\n",
       "    </tr>\n",
       "    <tr>\n",
       "      <th>15</th>\n",
       "      <td>ESjYWE4LC1V7eGjhAXAV9WMchgcjZU3kdFMPJwQz3JV7</td>\n",
       "      <td>0.336712</td>\n",
       "      <td>2022-04-22</td>\n",
       "    </tr>\n",
       "    <tr>\n",
       "      <th>16</th>\n",
       "      <td>Bp5FHQTH9EUQ8xNakgKKN7iWMhCtt34goRH1kYttzMz5</td>\n",
       "      <td>0.252534</td>\n",
       "      <td>2022-04-22</td>\n",
       "    </tr>\n",
       "    <tr>\n",
       "      <th>17</th>\n",
       "      <td>EAmvC16UQrM5xxmtpLHEABBkFtN88ZGB1qD9Si79HisJ</td>\n",
       "      <td>0.168356</td>\n",
       "      <td>2022-04-22</td>\n",
       "    </tr>\n",
       "    <tr>\n",
       "      <th>18</th>\n",
       "      <td>DAvzi8W3rhxBBMd9gFMmMPdLfvPEfiYrhDf4MueFCbXC</td>\n",
       "      <td>7.407665</td>\n",
       "      <td>2022-04-22</td>\n",
       "    </tr>\n",
       "    <tr>\n",
       "      <th>19</th>\n",
       "      <td>CcoBXF3qbTToppexNZrLvNpwozj7Sw3RHDxsLoGsGbfb</td>\n",
       "      <td>0.000000</td>\n",
       "      <td>2022-04-22</td>\n",
       "    </tr>\n",
       "    <tr>\n",
       "      <th>20</th>\n",
       "      <td>F77ButToyhNf5g4cU2apPg6vy48u4H3Ry9GrRwLgYcD8</td>\n",
       "      <td>1.010136</td>\n",
       "      <td>2022-04-22</td>\n",
       "    </tr>\n",
       "    <tr>\n",
       "      <th>21</th>\n",
       "      <td>Hya9U3Ao61oebVBPEnUiqinqvpzTguAZhbAWDmEQpm3a</td>\n",
       "      <td>0.084178</td>\n",
       "      <td>2022-04-22</td>\n",
       "    </tr>\n",
       "  </tbody>\n",
       "</table>\n",
       "</div>"
      ],
      "text/plain": [
       "                          entropy_keeper_address  total_keeper_reward  \\\n",
       "0   2dtWbt8X3uQNRNLdwwybDuFLzPrZribVXDdSVaRE5JzR          4650.850933   \n",
       "1   6i7XMXBUDd2b8Y57xxaq2CaMihHKBomSS1K7mz6T7Nxm           605.574204   \n",
       "2   432DaYkzyf5EWRjJXHD7baJp3f95djNtSTtWPNg1VQUM           840.187685   \n",
       "3   HxeoZxH4JTrYGs2RTDF2p7Vsd7pmV3j5o5xTRoXmDg47           269.736585   \n",
       "4    tCw98YuVqNruoGQbqTDNoh6f8wz8fiecRVNWnTc2rhG             1.464703   \n",
       "5    5Cky8emeF1q1SHc9gjHLrVYBbCarRZNPtCnVMYAKcoP           859.153139   \n",
       "6    arbp6SkGwKz7qkUt9StvZKTWFfDHeJfusUSpw6aqR27           327.549622   \n",
       "7   AxpcUKnhF1pNNw9x5GbcYY16TCmqvFxDyHxEKyrpkcJe           305.579281   \n",
       "8   DBAMcasPmgSrStwH82DhVSKaWZrsjUR3nz6M3vc13aCs            95.289504   \n",
       "9   FytZdmfYW6oCP5jhiBCE9xmUhzqVX6i2hw3NrwcGBYMo             1.262670   \n",
       "10  BP4yhBjUjWZ2hX2pvkfKs65ZpG3aAdxYjTT3qxQjofWe             1.431026   \n",
       "11  F4rLiV3mzCL4hc3nsktzoRVVWqgngmKHHwAybjQZWtns            31.735109   \n",
       "12  HAL3LZYFfTYWs4VAyg7KLbv7qUkB2UMrw7MfFtTQiscv             0.000000   \n",
       "13  9CFPaXBgzWobkweycEd8poXSKimPTTVdUYGNHTm3dxBw             0.420890   \n",
       "14  DCzxCuncJvyPGzjS4fTCgZNz3A4MSAuLCGMjR2JfVQcU             0.505068   \n",
       "15  ESjYWE4LC1V7eGjhAXAV9WMchgcjZU3kdFMPJwQz3JV7             0.336712   \n",
       "16  Bp5FHQTH9EUQ8xNakgKKN7iWMhCtt34goRH1kYttzMz5             0.252534   \n",
       "17  EAmvC16UQrM5xxmtpLHEABBkFtN88ZGB1qD9Si79HisJ             0.168356   \n",
       "18  DAvzi8W3rhxBBMd9gFMmMPdLfvPEfiYrhDf4MueFCbXC             7.407665   \n",
       "19  CcoBXF3qbTToppexNZrLvNpwozj7Sw3RHDxsLoGsGbfb             0.000000   \n",
       "20  F77ButToyhNf5g4cU2apPg6vy48u4H3Ry9GrRwLgYcD8             1.010136   \n",
       "21  Hya9U3Ao61oebVBPEnUiqinqvpzTguAZhbAWDmEQpm3a             0.084178   \n",
       "\n",
       "    as_of_date  \n",
       "0   2022-04-22  \n",
       "1   2022-04-22  \n",
       "2   2022-04-22  \n",
       "3   2022-04-22  \n",
       "4   2022-04-22  \n",
       "5   2022-04-22  \n",
       "6   2022-04-22  \n",
       "7   2022-04-22  \n",
       "8   2022-04-22  \n",
       "9   2022-04-22  \n",
       "10  2022-04-22  \n",
       "11  2022-04-22  \n",
       "12  2022-04-22  \n",
       "13  2022-04-22  \n",
       "14  2022-04-22  \n",
       "15  2022-04-22  \n",
       "16  2022-04-22  \n",
       "17  2022-04-22  \n",
       "18  2022-04-22  \n",
       "19  2022-04-22  \n",
       "20  2022-04-22  \n",
       "21  2022-04-22  "
      ]
     },
     "execution_count": 11,
     "metadata": {},
     "output_type": "execute_result"
    }
   ],
   "source": [
    "rewards_df"
   ]
  },
  {
   "cell_type": "code",
   "execution_count": null,
   "id": "e53c9f0c-c585-45c3-83c1-d0a3f00bbd5d",
   "metadata": {},
   "outputs": [],
   "source": []
  }
 ],
 "metadata": {
  "environment": {
   "kernel": "python3",
   "name": "common-cpu.m91",
   "type": "gcloud",
   "uri": "gcr.io/deeplearning-platform-release/base-cpu:m91"
  },
  "kernelspec": {
   "display_name": "Python 3",
   "language": "python",
   "name": "python3"
  },
  "language_info": {
   "codemirror_mode": {
    "name": "ipython",
    "version": 3
   },
   "file_extension": ".py",
   "mimetype": "text/x-python",
   "name": "python",
   "nbconvert_exporter": "python",
   "pygments_lexer": "ipython3",
   "version": "3.7.12"
  }
 },
 "nbformat": 4,
 "nbformat_minor": 5
}
