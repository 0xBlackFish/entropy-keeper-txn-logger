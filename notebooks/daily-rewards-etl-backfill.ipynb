{
 "cells": [
  {
   "cell_type": "code",
   "execution_count": 1,
   "id": "1e5f66d2-5781-4be3-b10a-947e546b18da",
   "metadata": {},
   "outputs": [],
   "source": [
    "import pandas as pd\n",
    "from google.cloud import storage\n",
    "from datetime import datetime, date, timedelta\n",
    "import os"
   ]
  },
  {
   "cell_type": "markdown",
   "id": "3c0ed0cb-323d-47db-8090-976c95fac9d8",
   "metadata": {},
   "source": [
    "# Initialize Google Cloud Storage Client and Resources"
   ]
  },
  {
   "cell_type": "code",
   "execution_count": null,
   "id": "8826e194-bbfc-497d-99c1-6190147a870e",
   "metadata": {},
   "outputs": [],
   "source": [
    "client = storage.Client()\n",
    "txn_bucket = client.get_bucket('entropy-keeper-transactions')\n",
    "rewards_bucket = client.get_bucket('entropy-rewards')\n",
    "rewards_rate_table = pd.read_parquet('gs://entropy-rewards/program-references/2022-05-01-rewards-rate-table.parquet')\n",
    "rewards_rate_table['date'] = rewards_rate_table['date'].apply(lambda x: pd.to_datetime(x))\n",
    "rewards_rate_table.set_index('date',inplace=True)"
   ]
  },
  {
   "cell_type": "markdown",
   "id": "8fb3273f-9f4b-4197-b5cd-4afdff2d2084",
   "metadata": {},
   "source": [
    "# Loop Through Txns and Aggregate Rewards Per Keeper Wallet"
   ]
  },
  {
   "cell_type": "code",
   "execution_count": null,
   "id": "6432182e-03d2-425d-abb3-f7ef8e83eeac",
   "metadata": {},
   "outputs": [],
   "source": [
    "blobs = txn_bucket.list_blobs(prefix='daily/2022-04/2')\n",
    "\n",
    "for blob in blobs:\n",
    "    date = blob.name.split('/')[-1][:10]\n",
    "    file_path = 'gs://entropy-keeper-transactions/{}'.format(blob.name)\n",
    "    print(datetime.now(), \"Starting the process for the {} txn set...\".format(date))\n",
    "\n",
    "    df = pd.read_parquet(file_path)\n",
    "\n",
    "    print(datetime.now(), \"Formatting and organizing the dataframe...\")\n",
    "    # create a column which converts the iso timestamp to datetime\n",
    "    df['date_time'] = df['block.timestamp.iso8601'].apply(lambda x: datetime.strptime(x, '%Y-%m-%dT%H:%M:%SZ'))\n",
    "\n",
    "    # sort the dataframe by instruction type and datetime\n",
    "    df_sorted = df.sort_values(by=['instruction_type','date_time'],ascending=[True, True])\n",
    "\n",
    "    # create a column which shows the previous txns datetime relative to the current txn\n",
    "    df_sorted['prev_date_time'] = df_sorted.groupby('instruction_type')['date_time'].shift()\n",
    "\n",
    "    # calculate the time since last txn\n",
    "    df_sorted['time_since_last_txn'] = df_sorted['date_time'] - df_sorted['prev_date_time']\n",
    "\n",
    "    # decompose the time since last txn into time components, convert them to seconds, and add them together\n",
    "    time_components = df_sorted['time_since_last_txn'].dt.components\n",
    "    df_sorted['seconds_since_last_txn'] = (time_components['hours']*3600) + (time_components['minutes']*60) + (time_components['seconds'])\n",
    "    df_sorted['seconds_since_last_txn'].fillna(0,inplace=True)\n",
    "\n",
    "    print(datetime.now(), 'Calculating the total time for each entropy keeper address...')\n",
    "    consumeEvents_time_dict = {}\n",
    "    consumeEvents_time = 0\n",
    "    otherEvents_time_dict = {}\n",
    "    otherEvents_time = 0\n",
    "\n",
    "\n",
    "    for index, txn in df_sorted.iterrows():\n",
    "        wallet = txn['entropy_keeper_address']\n",
    "\n",
    "        if txn['instruction_type'] == 'ConsumeEvents':\n",
    "            if wallet not in consumeEvents_time_dict.keys():\n",
    "                consumeEvents_time_dict[wallet] = 0\n",
    "\n",
    "            seconds_since_last_txn = txn['seconds_since_last_txn']\n",
    "            consumeEvents_time_dict[wallet] += seconds_since_last_txn\n",
    "            consumeEvents_time += seconds_since_last_txn\n",
    "\n",
    "        else:\n",
    "            if wallet not in otherEvents_time_dict.keys():\n",
    "                otherEvents_time_dict[wallet] = 0\n",
    "\n",
    "            seconds_since_last_txn = txn['seconds_since_last_txn']\n",
    "            otherEvents_time_dict[wallet] += seconds_since_last_txn\n",
    "            otherEvents_time += seconds_since_last_txn\n",
    "\n",
    "\n",
    "    print(datetime.now(), 'Calculating the rewards for each entropy keeper address...')\n",
    "    consumeEvents_rewards_dict = {}\n",
    "    otherEvents_rewards_dict = {}\n",
    "\n",
    "    for wallet in consumeEvents_time_dict.keys():\n",
    "        consumeEvents_rewards_dict[wallet] = rewards_rate_table['consume_events_reward'][date] * (consumeEvents_time_dict[wallet] / consumeEvents_time)\n",
    "\n",
    "    for wallet in otherEvents_time_dict.keys():\n",
    "        otherEvents_rewards_dict[wallet] = rewards_rate_table['other_events_reward'][date] * (otherEvents_time_dict[wallet] / otherEvents_time)\n",
    "\n",
    "    otherEvents_rewards_df = pd.DataFrame(list(otherEvents_rewards_dict.items()),columns=['entropy_keeper_address','rewards'])\n",
    "    consumeEvents_rewards_df = pd.DataFrame(list(consumeEvents_rewards_dict.items()),columns=['entropy_keeper_address','rewards'])\n",
    "\n",
    "    total_rewards_df = pd.concat([otherEvents_rewards_df,consumeEvents_rewards_df]).groupby('entropy_keeper_address').sum().sort_values(by='rewards',ascending=False)\n",
    "    total_rewards_df['date'] = date\n",
    "    \n",
    "    total_rewards_df.to_parquet(date+'-daily-rewards.parquet')\n",
    "\n",
    "    print(datetime.now(), 'Uploading file to GCS...')\n",
    "    blob = rewards_bucket.blob('daily/2022-04/'+date+'-daily-rewards.parquet')\n",
    "    blob.upload_from_filename(date+'-daily-rewards.parquet')\n",
    "\n",
    "    print(datetime.now(), 'Deleting file from local memory...')\n",
    "    os.remove(date+'-daily-rewards.parquet')"
   ]
  }
 ],
 "metadata": {
  "environment": {
   "kernel": "python3",
   "name": "common-cpu.m91",
   "type": "gcloud",
   "uri": "gcr.io/deeplearning-platform-release/base-cpu:m91"
  },
  "kernelspec": {
   "display_name": "Python 3",
   "language": "python",
   "name": "python3"
  },
  "language_info": {
   "codemirror_mode": {
    "name": "ipython",
    "version": 3
   },
   "file_extension": ".py",
   "mimetype": "text/x-python",
   "name": "python",
   "nbconvert_exporter": "python",
   "pygments_lexer": "ipython3",
   "version": "3.7.12"
  }
 },
 "nbformat": 4,
 "nbformat_minor": 5
}
