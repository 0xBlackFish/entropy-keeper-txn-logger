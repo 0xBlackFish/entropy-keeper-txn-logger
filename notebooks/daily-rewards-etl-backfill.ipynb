{
 "cells": [
  {
   "cell_type": "code",
   "execution_count": 8,
   "id": "1e5f66d2-5781-4be3-b10a-947e546b18da",
   "metadata": {},
   "outputs": [],
   "source": [
    "import pandas as pd\n",
    "from google.cloud import storage\n",
    "from google.api_core import page_iterator\n",
    "from datetime import datetime, date, timedelta\n",
    "import os"
   ]
  },
  {
   "cell_type": "markdown",
   "id": "485883cc-b93b-427c-be67-9fe851d0619f",
   "metadata": {
    "tags": []
   },
   "source": [
    "# Utility Function to List Out Google Clou Storage Directories for a Given File Path"
   ]
  },
  {
   "cell_type": "code",
   "execution_count": 9,
   "id": "a55bc15a-d56c-4e5f-8b63-599bc4aa87fc",
   "metadata": {},
   "outputs": [],
   "source": [
    "def _item_to_value(iterator, item):\n",
    "    return item\n",
    "\n",
    "def list_directories(bucket_name, prefix):\n",
    "    if prefix and not prefix.endswith('/'):\n",
    "        prefix += '/'\n",
    "\n",
    "    extra_params = {\n",
    "        \"projection\": \"noAcl\",\n",
    "        \"prefix\": prefix,\n",
    "        \"delimiter\": '/'\n",
    "    }\n",
    "\n",
    "    gcs = storage.Client()\n",
    "\n",
    "    path = \"/b/\" + bucket_name + \"/o\"\n",
    "\n",
    "    iterator = page_iterator.HTTPIterator(\n",
    "        client=gcs,\n",
    "        api_request=gcs._connection.api_request,\n",
    "        path=path,\n",
    "        items_key='prefixes',\n",
    "        item_to_value=_item_to_value,\n",
    "        extra_params=extra_params,\n",
    "    )\n",
    "\n",
    "    return [x for x in iterator]"
   ]
  },
  {
   "cell_type": "markdown",
   "id": "d6628aa9-12fb-467f-98c2-fa13564d9d83",
   "metadata": {},
   "source": [
    "# Define Query to Execute Against GBQ for Keeper Txn Time Calculation"
   ]
  },
  {
   "cell_type": "code",
   "execution_count": 16,
   "id": "f500463b-b167-4217-b6d6-e91b620bf1b9",
   "metadata": {},
   "outputs": [],
   "source": [
    "query = '''\n",
    "\n",
    "with\n",
    "base as (\n",
    "  select\n",
    "    ttl.entropy_keeper_address,\n",
    "    case when ttl.instruction_type = 'ConsumeEvents' then ttl.instruction_type else 'OtherEvents' end as instruction_type,\n",
    "    sum(coalesce(ttl.seconds_since_last_txn,0)) as total_time_by_address_instruction_type\n",
    "  from entropy.txns_time_lag ttl\n",
    "  where\n",
    "    date(ttl.date_time) = date('{}')\n",
    "  group by 1,2\n",
    ")\n",
    "\n",
    "select\n",
    "  b.entropy_keeper_address,\n",
    "  b.instruction_type,\n",
    "  b.total_time_by_address_instruction_type,\n",
    "  sum(b.total_time_by_address_instruction_type) over (partition by instruction_type) as total_time_overall,\n",
    "  (b.total_time_by_address_instruction_type * 1.0) / sum(b.total_time_by_address_instruction_type) over (partition by instruction_type) as pct_of_time\n",
    "from base b\n",
    "\n",
    "'''"
   ]
  },
  {
   "cell_type": "markdown",
   "id": "3c0ed0cb-323d-47db-8090-976c95fac9d8",
   "metadata": {},
   "source": [
    "# Initialize Google Cloud Storage Client and Resources"
   ]
  },
  {
   "cell_type": "code",
   "execution_count": 58,
   "id": "8826e194-bbfc-497d-99c1-6190147a870e",
   "metadata": {},
   "outputs": [],
   "source": [
    "client = storage.Client()\n",
    "txn_bucket = client.get_bucket('entropy-keeper-transactions')\n",
    "rewards_bucket = client.get_bucket('entropy-rewards')\n",
    "rewards_rate_table = pd.read_parquet('gs://entropy-rewards/program-references/2022-05-01-rewards-rate-table.parquet')\n",
    "rewards_rate_table['date'] = rewards_rate_table['date'].apply(lambda x: str(x))\n",
    "rewards_rate_table.set_index('date',inplace=True)"
   ]
  },
  {
   "cell_type": "code",
   "execution_count": 36,
   "id": "b57424a3-fcdf-46fb-85f7-a5f52ed56c48",
   "metadata": {},
   "outputs": [
    {
     "data": {
      "text/plain": [
       "['2022-04-22',\n",
       " '2022-04-23',\n",
       " '2022-04-24',\n",
       " '2022-04-25',\n",
       " '2022-04-26',\n",
       " '2022-04-27',\n",
       " '2022-04-28',\n",
       " '2022-04-29',\n",
       " '2022-04-30',\n",
       " '2022-05-01']"
      ]
     },
     "execution_count": 36,
     "metadata": {},
     "output_type": "execute_result"
    }
   ],
   "source": [
    "date_list = [x.strip(\"'raw/\").strip('/') for x in list_directories('entropy-keeper-transactions', 'raw/')]\n",
    "date_list[:-1]"
   ]
  },
  {
   "cell_type": "markdown",
   "id": "8fb3273f-9f4b-4197-b5cd-4afdff2d2084",
   "metadata": {},
   "source": [
    "# Loop Through Txns and Aggregate Rewards Per Keeper Wallet"
   ]
  },
  {
   "cell_type": "code",
   "execution_count": 68,
   "id": "6432182e-03d2-425d-abb3-f7ef8e83eeac",
   "metadata": {
    "collapsed": true,
    "jupyter": {
     "outputs_hidden": true
    },
    "tags": []
   },
   "outputs": [
    {
     "name": "stdout",
     "output_type": "stream",
     "text": [
      "2022-05-02 09:18:05.407512 Starting the process for the 2022-04-22 txn set...\n",
      "2022-05-02 09:18:06.360365 Creating parquet file...\n",
      "2022-05-02 09:18:06.363582 Writing data to GBQ...\n"
     ]
    },
    {
     "name": "stderr",
     "output_type": "stream",
     "text": [
      "100%|██████████| 1/1 [00:00<00:00, 10699.76it/s]\n"
     ]
    },
    {
     "name": "stdout",
     "output_type": "stream",
     "text": [
      "2022-05-02 09:18:11.498162 Uploading file to GCS...\n",
      "2022-05-02 09:18:11.735836 Deleting file from local memory...\n",
      "2022-05-02 09:18:11.736367 Starting the process for the 2022-04-23 txn set...\n",
      "2022-05-02 09:18:12.638360 Creating parquet file...\n",
      "2022-05-02 09:18:12.641043 Writing data to GBQ...\n"
     ]
    },
    {
     "name": "stderr",
     "output_type": "stream",
     "text": [
      "100%|██████████| 1/1 [00:00<00:00, 14169.95it/s]\n"
     ]
    },
    {
     "name": "stdout",
     "output_type": "stream",
     "text": [
      "2022-05-02 09:18:16.966567 Uploading file to GCS...\n",
      "2022-05-02 09:18:17.227068 Deleting file from local memory...\n",
      "2022-05-02 09:18:17.227718 Starting the process for the 2022-04-24 txn set...\n",
      "2022-05-02 09:18:18.070055 Creating parquet file...\n",
      "2022-05-02 09:18:18.072998 Writing data to GBQ...\n"
     ]
    },
    {
     "name": "stderr",
     "output_type": "stream",
     "text": [
      "100%|██████████| 1/1 [00:00<00:00, 14513.16it/s]\n"
     ]
    },
    {
     "name": "stdout",
     "output_type": "stream",
     "text": [
      "2022-05-02 09:18:23.179662 Uploading file to GCS...\n",
      "2022-05-02 09:18:23.457801 Deleting file from local memory...\n",
      "2022-05-02 09:18:23.458374 Starting the process for the 2022-04-25 txn set...\n",
      "2022-05-02 09:18:24.279012 Creating parquet file...\n",
      "2022-05-02 09:18:24.281872 Writing data to GBQ...\n"
     ]
    },
    {
     "name": "stderr",
     "output_type": "stream",
     "text": [
      "100%|██████████| 1/1 [00:00<00:00, 13706.88it/s]\n"
     ]
    },
    {
     "name": "stdout",
     "output_type": "stream",
     "text": [
      "2022-05-02 09:18:30.160565 Uploading file to GCS...\n",
      "2022-05-02 09:18:30.432585 Deleting file from local memory...\n",
      "2022-05-02 09:18:30.433150 Starting the process for the 2022-04-26 txn set...\n",
      "2022-05-02 09:18:31.327395 Creating parquet file...\n",
      "2022-05-02 09:18:31.330212 Writing data to GBQ...\n"
     ]
    },
    {
     "name": "stderr",
     "output_type": "stream",
     "text": [
      "100%|██████████| 1/1 [00:00<00:00, 14979.66it/s]\n"
     ]
    },
    {
     "name": "stdout",
     "output_type": "stream",
     "text": [
      "2022-05-02 09:18:34.310594 Uploading file to GCS...\n",
      "2022-05-02 09:18:34.592011 Deleting file from local memory...\n",
      "2022-05-02 09:18:34.592595 Starting the process for the 2022-04-27 txn set...\n",
      "2022-05-02 09:18:35.297939 Creating parquet file...\n",
      "2022-05-02 09:18:35.301044 Writing data to GBQ...\n"
     ]
    },
    {
     "name": "stderr",
     "output_type": "stream",
     "text": [
      "100%|██████████| 1/1 [00:00<00:00, 7839.82it/s]\n"
     ]
    },
    {
     "name": "stdout",
     "output_type": "stream",
     "text": [
      "2022-05-02 09:18:38.670620 Uploading file to GCS...\n",
      "2022-05-02 09:18:38.934776 Deleting file from local memory...\n",
      "2022-05-02 09:18:38.935308 Starting the process for the 2022-04-28 txn set...\n",
      "2022-05-02 09:18:39.750416 Creating parquet file...\n",
      "2022-05-02 09:18:39.753730 Writing data to GBQ...\n"
     ]
    },
    {
     "name": "stderr",
     "output_type": "stream",
     "text": [
      "100%|██████████| 1/1 [00:00<00:00, 9962.72it/s]\n"
     ]
    },
    {
     "name": "stdout",
     "output_type": "stream",
     "text": [
      "2022-05-02 09:18:48.343188 Uploading file to GCS...\n",
      "2022-05-02 09:18:48.619032 Deleting file from local memory...\n",
      "2022-05-02 09:18:48.619561 Starting the process for the 2022-04-29 txn set...\n",
      "2022-05-02 09:18:50.225866 Creating parquet file...\n",
      "2022-05-02 09:18:50.228821 Writing data to GBQ...\n"
     ]
    },
    {
     "name": "stderr",
     "output_type": "stream",
     "text": [
      "100%|██████████| 1/1 [00:00<00:00, 9915.61it/s]\n"
     ]
    },
    {
     "name": "stdout",
     "output_type": "stream",
     "text": [
      "2022-05-02 09:18:53.109135 Uploading file to GCS...\n",
      "2022-05-02 09:18:53.336255 Deleting file from local memory...\n",
      "2022-05-02 09:18:53.336853 Starting the process for the 2022-04-30 txn set...\n",
      "2022-05-02 09:18:54.111631 Creating parquet file...\n",
      "2022-05-02 09:18:54.114472 Writing data to GBQ...\n"
     ]
    },
    {
     "name": "stderr",
     "output_type": "stream",
     "text": [
      "100%|██████████| 1/1 [00:00<00:00, 14266.34it/s]\n"
     ]
    },
    {
     "name": "stdout",
     "output_type": "stream",
     "text": [
      "2022-05-02 09:19:00.156361 Uploading file to GCS...\n",
      "2022-05-02 09:19:00.390249 Deleting file from local memory...\n",
      "2022-05-02 09:19:00.390786 Starting the process for the 2022-05-01 txn set...\n",
      "2022-05-02 09:19:01.729228 Creating parquet file...\n",
      "2022-05-02 09:19:01.732009 Writing data to GBQ...\n"
     ]
    },
    {
     "name": "stderr",
     "output_type": "stream",
     "text": [
      "100%|██████████| 1/1 [00:00<00:00, 12905.55it/s]"
     ]
    },
    {
     "name": "stdout",
     "output_type": "stream",
     "text": [
      "2022-05-02 09:19:04.359476 Uploading file to GCS...\n",
      "2022-05-02 09:19:04.517041 Deleting file from local memory...\n"
     ]
    },
    {
     "name": "stderr",
     "output_type": "stream",
     "text": [
      "\n"
     ]
    }
   ],
   "source": [
    "for date in date_list[:-1]:\n",
    "    print(datetime.now(), \"Starting the process for the {} txn set...\".format(date))\n",
    "\n",
    "    rewards_df = pd.read_gbq(query=query.format(date))\n",
    "\n",
    "    rewards_df['daily_total_reward'] = rewards_df['instruction_type'].apply(\n",
    "        lambda x: rewards_rate_table.loc[date]['consume_events_reward'] if x == 'ConsumeEvents' else rewards_rate_table.loc[date]['other_events_reward']\n",
    "    )\n",
    "\n",
    "    rewards_df['daily_keeper_reward'] = rewards_df['pct_of_time'] * rewards_df['daily_total_reward']\n",
    "    rewards_df['date'] = date\n",
    "    \n",
    "    print(datetime.now(), 'Creating parquet file...')   \n",
    "    rewards_df.to_parquet(date+'-daily-rewards.parquet')\n",
    "    \n",
    "    print(datetime.now(), 'Writing data to GBQ...')\n",
    "    rewards_df.to_gbq('entropy.keeper_rewards_daily',if_exists='append')\n",
    "\n",
    "    print(datetime.now(), 'Uploading file to GCS...')\n",
    "    blob = rewards_bucket.blob('daily/'+date[:7]+'/'+date+'-daily-rewards.parquet')\n",
    "    blob.upload_from_filename(date+'-daily-rewards.parquet')\n",
    "\n",
    "    print(datetime.now(), 'Deleting file from local memory...')\n",
    "    os.remove(date+'-daily-rewards.parquet')"
   ]
  },
  {
   "cell_type": "code",
   "execution_count": null,
   "id": "23136c84-3f63-4d93-a755-9c7bb54c235d",
   "metadata": {},
   "outputs": [],
   "source": []
  }
 ],
 "metadata": {
  "environment": {
   "kernel": "python3",
   "name": "common-cpu.m91",
   "type": "gcloud",
   "uri": "gcr.io/deeplearning-platform-release/base-cpu:m91"
  },
  "kernelspec": {
   "display_name": "Python 3",
   "language": "python",
   "name": "python3"
  },
  "language_info": {
   "codemirror_mode": {
    "name": "ipython",
    "version": 3
   },
   "file_extension": ".py",
   "mimetype": "text/x-python",
   "name": "python",
   "nbconvert_exporter": "python",
   "pygments_lexer": "ipython3",
   "version": "3.7.12"
  }
 },
 "nbformat": 4,
 "nbformat_minor": 5
}
