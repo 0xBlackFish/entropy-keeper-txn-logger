{
 "cells": [
  {
   "cell_type": "code",
   "execution_count": 1,
   "id": "20b86f2b-b69c-4c0e-af68-a7540d43f580",
   "metadata": {},
   "outputs": [],
   "source": [
    "import pandas as pd\n",
    "from google.cloud import storage\n",
    "from google.api_core import page_iterator\n",
    "from datetime import datetime, date, timedelta\n",
    "import os"
   ]
  },
  {
   "cell_type": "markdown",
   "id": "f0e23813-ba70-4526-8989-8e7df2e9b08e",
   "metadata": {},
   "source": [
    "# Utility Function to List Out Google Clou Storage Directories for a Given File Path"
   ]
  },
  {
   "cell_type": "code",
   "execution_count": 4,
   "id": "056677b9-9e17-40c2-af24-ef26732bb2e2",
   "metadata": {},
   "outputs": [],
   "source": [
    "def _item_to_value(iterator, item):\n",
    "    return item\n",
    "\n",
    "def list_directories(bucket_name, prefix):\n",
    "    if prefix and not prefix.endswith('/'):\n",
    "        prefix += '/'\n",
    "\n",
    "    extra_params = {\n",
    "        \"projection\": \"noAcl\",\n",
    "        \"prefix\": prefix,\n",
    "        \"delimiter\": '/'\n",
    "    }\n",
    "\n",
    "    gcs = storage.Client()\n",
    "\n",
    "    path = \"/b/\" + bucket_name + \"/o\"\n",
    "\n",
    "    iterator = page_iterator.HTTPIterator(\n",
    "        client=gcs,\n",
    "        api_request=gcs._connection.api_request,\n",
    "        path=path,\n",
    "        items_key='prefixes',\n",
    "        item_to_value=_item_to_value,\n",
    "        extra_params=extra_params,\n",
    "    )\n",
    "\n",
    "    return [x for x in iterator]"
   ]
  },
  {
   "cell_type": "markdown",
   "id": "62619f63-8fcf-4b70-ae7d-4320e2cc65c3",
   "metadata": {},
   "source": [
    "# Instantiate Google Cloud Storage Client and Resources"
   ]
  },
  {
   "cell_type": "code",
   "execution_count": 5,
   "id": "d632dfb6-7eb3-4fd0-a980-4856ad66af83",
   "metadata": {},
   "outputs": [],
   "source": [
    "client = storage.Client()\n",
    "bucket = client.get_bucket('entropy-keeper-transactions')"
   ]
  },
  {
   "cell_type": "markdown",
   "id": "004faf4d-0e56-4f61-9cb5-9db4f5b183a4",
   "metadata": {},
   "source": [
    "# Get List of Dates Where Txns Have Been Recorded"
   ]
  },
  {
   "cell_type": "code",
   "execution_count": 6,
   "id": "cbc3abb8-4701-40c8-9da7-50bf0cdae82c",
   "metadata": {},
   "outputs": [],
   "source": [
    "date_list = [x.strip(\"'raw/\").strip('/') for x in list_directories('entropy-keeper-transactions', 'raw/')]"
   ]
  },
  {
   "cell_type": "code",
   "execution_count": 7,
   "id": "2a2560d2-ffc1-4b2c-b155-f2205f8efcd2",
   "metadata": {
    "collapsed": true,
    "jupyter": {
     "outputs_hidden": true
    },
    "tags": []
   },
   "outputs": [
    {
     "data": {
      "text/plain": [
       "['2022-04-22',\n",
       " '2022-04-23',\n",
       " '2022-04-24',\n",
       " '2022-04-25',\n",
       " '2022-04-26',\n",
       " '2022-04-27',\n",
       " '2022-04-28',\n",
       " '2022-04-29',\n",
       " '2022-04-30',\n",
       " '2022-05-01']"
      ]
     },
     "execution_count": 7,
     "metadata": {},
     "output_type": "execute_result"
    }
   ],
   "source": [
    "date_list"
   ]
  },
  {
   "cell_type": "markdown",
   "id": "a3e2b4e9-420c-4068-a335-703af896161b",
   "metadata": {},
   "source": [
    "# Loop Through Dates, Group Txns Together, and Write to Google Cloud Storage"
   ]
  },
  {
   "cell_type": "code",
   "execution_count": null,
   "id": "715e7b6a-cbdc-46f5-9f44-fccb1b037c6b",
   "metadata": {},
   "outputs": [],
   "source": [
    "for date in date_list:\n",
    "    print(datetime.now(), 'Starting on {}'.format(date))\n",
    "    df_daily_agg = pd.DataFrame()\n",
    "    \n",
    "    blobs = bucket.list_blobs(prefix='raw/'+date)\n",
    "    \n",
    "    for blob in blobs:\n",
    "        file_path = 'gs://entropy-keeper-transactions/{}'.format(blob.name)\n",
    "\n",
    "        df_blob = pd.read_parquet(file_path)\n",
    "        \n",
    "        df_daily_agg = pd.concat([df_daily_agg, df_blob], axis=0)\n",
    "    \n",
    "    df_daily_agg.to_parquet(date+'-daily-aggregation.parquet')\n",
    "    \n",
    "    print(datetime.now(), 'Uploading file to GCS...')\n",
    "    blob = bucket.blob('daily/'+date+'/'+date+'-daily-aggregation.parquet')\n",
    "    blob.upload_from_filename(date+'-daily-aggregation.parquet')\n",
    "\n",
    "    print(datetime.now(), 'Deleting file from local memory')\n",
    "    os.remove(date+'-daily-aggregation.parquet')"
   ]
  }
 ],
 "metadata": {
  "environment": {
   "kernel": "python3",
   "name": "common-cpu.m91",
   "type": "gcloud",
   "uri": "gcr.io/deeplearning-platform-release/base-cpu:m91"
  },
  "kernelspec": {
   "display_name": "Python 3",
   "language": "python",
   "name": "python3"
  },
  "language_info": {
   "codemirror_mode": {
    "name": "ipython",
    "version": 3
   },
   "file_extension": ".py",
   "mimetype": "text/x-python",
   "name": "python",
   "nbconvert_exporter": "python",
   "pygments_lexer": "ipython3",
   "version": "3.7.12"
  }
 },
 "nbformat": 4,
 "nbformat_minor": 5
}
