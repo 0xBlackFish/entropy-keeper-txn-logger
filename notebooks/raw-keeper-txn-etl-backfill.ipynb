{
 "cells": [
  {
   "cell_type": "code",
   "execution_count": 2,
   "id": "dba440df-183d-4e06-89fb-e18c38279c97",
   "metadata": {},
   "outputs": [],
   "source": [
    "import pandas as pd\n",
    "from datetime import datetime, timedelta, date\n",
    "import os\n",
    "import requests\n",
    "import time\n",
    "from google.cloud import storage\n",
    "import re"
   ]
  },
  {
   "cell_type": "markdown",
   "id": "791421e5-5ab3-4309-b4cd-2906a09bbac9",
   "metadata": {},
   "source": [
    "# Utility Function to Execute BitQuery Queries"
   ]
  },
  {
   "cell_type": "code",
   "execution_count": null,
   "id": "a2d9f559-06ff-4e72-815f-3e6fe948b4a1",
   "metadata": {},
   "outputs": [],
   "source": [
    "def run_query(query, retries=10):\n",
    "        \"\"\"\n",
    "        Query graphQL API.\n",
    "        If timeerror\n",
    "        \"\"\"\n",
    "        headers = {\"X-API-KEY\": \"BQYCaXaMZlqZrPCSQVsiJrKtxKRVcSe4\"}\n",
    "\n",
    "        retries_counter = 0\n",
    "        try:\n",
    "            request = requests.post(\n",
    "                \"https://graphql.bitquery.io/\", json={\"query\": query}, headers=headers\n",
    "            )\n",
    "            result = request.json()\n",
    "            # print(dir(request.content))\n",
    "            # Make sure that there is no error message\n",
    "            # assert not request.content.errors\n",
    "            assert \"errors\" not in result\n",
    "        except:\n",
    "            while (\n",
    "                (request.status_code != 200\n",
    "                or \"errors\" in result)\n",
    "                and retries_counter < 10\n",
    "            ):\n",
    "                print(datetime.now(), f\"Retry number {retries_counter}\")\n",
    "                if \"errors\" in result:\n",
    "                    print(result[\"errors\"])\n",
    "                print(datetime.now(), f\"Query failed for reason: {request.reason}. sleeping for {150*retries_counter} seconds and retrying...\")\n",
    "                time.sleep(150*retries_counter)\n",
    "                request = requests.post(\n",
    "                    \"https://graphql.bitquery.io/\",\n",
    "                    json={\"query\": query},\n",
    "                    headers=headers,\n",
    "                )\n",
    "                retries_counter += 1\n",
    "            if retries_counter >= retries:\n",
    "                raise Exception(\n",
    "                    \"Query failed after {} retries and return code is {}.{}\".format(\n",
    "                        retries_counter, request.status_code, query\n",
    "                    )\n",
    "                )\n",
    "        return request.json()"
   ]
  },
  {
   "cell_type": "markdown",
   "id": "bb21bcac-ccb9-46ea-b45d-6365a5f81138",
   "metadata": {},
   "source": [
    "# Dictionary Mapping data.base58 to Instruction Type"
   ]
  },
  {
   "cell_type": "code",
   "execution_count": null,
   "id": "d3b2ea93-2972-47bd-9102-7cd8d68c8227",
   "metadata": {},
   "outputs": [],
   "source": [
    "instruction_type_dict = {\n",
    "    '5QCjN' : 'CancelAllPerpOrders',\n",
    "    'BNuyR' : 'CachePrices',\n",
    "    'BcYfW' : 'PlacePerpOrder',\n",
    "    'CruFm' : 'CacheRootBanks',\n",
    "    'HRDyP' : 'ConsumeEvents',\n",
    "    'QioWX' : 'CachePerpMarkets',\n",
    "    'SCnns' : 'UpdateFunding',\n",
    "    'Y8jvF' : 'UpdateRootBank',\n",
    "    '' : ''\n",
    "}"
   ]
  },
  {
   "cell_type": "markdown",
   "id": "1b4faae8-4dce-4071-bc72-b7c0f58cef2a",
   "metadata": {},
   "source": [
    "# Instantiate Google Cloud Storage Client and Resources"
   ]
  },
  {
   "cell_type": "code",
   "execution_count": null,
   "id": "133fd904-01db-45af-b2e0-41a2521da339",
   "metadata": {},
   "outputs": [],
   "source": [
    "client = storage.Client()\n",
    "bucket = client.get_bucket('entropy-keeper-transactions')"
   ]
  },
  {
   "cell_type": "markdown",
   "id": "92d7577d-7f9d-485b-a31b-567b461c977c",
   "metadata": {},
   "source": [
    "# Read in BitQuery Query"
   ]
  },
  {
   "cell_type": "code",
   "execution_count": 4,
   "id": "b1df039a-eef4-4f8f-b51c-d72bdfc6fdbb",
   "metadata": {},
   "outputs": [],
   "source": [
    "with open('../entropy_instructions_bitquery.txt') as query:\n",
    "    query_string = query.read()"
   ]
  },
  {
   "cell_type": "markdown",
   "id": "a6ae5984-d82b-47b7-aa21-629345c633bc",
   "metadata": {},
   "source": [
    "# Initialize Starting Time Interval to Query"
   ]
  },
  {
   "cell_type": "code",
   "execution_count": null,
   "id": "d98e4c20-ec91-42bb-9171-887aa379e830",
   "metadata": {},
   "outputs": [],
   "source": [
    "after = datetime(2022, 4, 22, 0, 0, 0)\n",
    "till = after + timedelta(minutes=30)"
   ]
  },
  {
   "cell_type": "markdown",
   "id": "fedcad7f-9a8f-47d6-8279-596afd807a17",
   "metadata": {},
   "source": [
    "# Loop Through Query Results and Write to Google Cloud Storage"
   ]
  },
  {
   "cell_type": "code",
   "execution_count": null,
   "id": "6780d2c4-b9f6-4fbf-98ac-686393217929",
   "metadata": {},
   "outputs": [],
   "source": [
    "while after < datetime(2022, 4, 29, 22, 0, 0):\n",
    "    \n",
    "    after_param = after.strftime('%Y-%m-%dT%H:%M:%SZ')\n",
    "    till_param = till.strftime('%Y-%m-%dT%H:%M:%SZ')\n",
    "    print(datetime.now(),'Running from {} to {}'.format(after_param, till_param))\n",
    "        \n",
    "    result = run_query(query_string % (after_param, till_param))\n",
    "    print(datetime.now(), 'Query completed!')\n",
    "    df = pd.json_normalize(result['data']['solana']['instructions'])\n",
    "    \n",
    "    if df.empty:\n",
    "        print(datetime.now(), 'DataFrame empty!')\n",
    "        after += timedelta(minutes=30)\n",
    "        till += timedelta(minutes=30)\n",
    "        pass\n",
    "    \n",
    "    else:\n",
    "        df['data.base58_trunc'] = df['data.base58'].apply(lambda x: x[:5])\n",
    "        df['instruction_type'] = df['data.base58_trunc'].apply(lambda x: instruction_type_dict[x] if x in instruction_type_dict.keys() else 'other')\n",
    "\n",
    "        df_reduced = df[df['instruction_type'].isin(['UpdateRootBank','CacheRootBanks','CachePerpMarkets','CachePrices','UpdateFunding','ConsumeEvents'])][['block.height','block.timestamp.iso8601','transaction.feePayer','instruction_type','transaction.signature']]\n",
    "        df_reduced.rename(columns={\n",
    "            'transaction.feePayer' : 'entropy_keeper_address',\n",
    "            'transaction.signature' : 'transaction_id'\n",
    "        }, inplace=True)\n",
    "\n",
    "        print(datetime.now(), 'Creating parquet file...')       \n",
    "        df_reduced.to_parquet(after_param+'-'+till_param+'.parquet')\n",
    "\n",
    "        print(datetime.now(), 'Uploading file to GCS...')\n",
    "        blob = bucket.blob('raw/'+after.date().strftime('%Y-%m-%d')+'/'+after_param+'-'+till_param+'.parquet')\n",
    "        blob.upload_from_filename(after_param+'-'+till_param+'.parquet')\n",
    "\n",
    "        print(datetime.now(), 'Deleting file from local memory')\n",
    "        os.remove(after_param+'-'+till_param+'.parquet')\n",
    "\n",
    "        after += timedelta(minutes=30)\n",
    "        till += timedelta(minutes=30)"
   ]
  }
 ],
 "metadata": {
  "environment": {
   "kernel": "python3",
   "name": "common-cpu.m91",
   "type": "gcloud",
   "uri": "gcr.io/deeplearning-platform-release/base-cpu:m91"
  },
  "kernelspec": {
   "display_name": "Python 3",
   "language": "python",
   "name": "python3"
  },
  "language_info": {
   "codemirror_mode": {
    "name": "ipython",
    "version": 3
   },
   "file_extension": ".py",
   "mimetype": "text/x-python",
   "name": "python",
   "nbconvert_exporter": "python",
   "pygments_lexer": "ipython3",
   "version": "3.7.12"
  }
 },
 "nbformat": 4,
 "nbformat_minor": 5
}
